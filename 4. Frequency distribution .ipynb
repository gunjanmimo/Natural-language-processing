{
 "cells": [
  {
   "cell_type": "markdown",
   "metadata": {},
   "source": [
    "# frequency distribution \n",
    "## to get the word frequency in a text"
   ]
  },
  {
   "cell_type": "code",
   "execution_count": 1,
   "metadata": {},
   "outputs": [],
   "source": [
    "from nltk.tokenize import word_tokenize\n",
    "from nltk.probability import FreqDist"
   ]
  },
  {
   "cell_type": "code",
   "execution_count": 2,
   "metadata": {},
   "outputs": [],
   "source": [
    "sample = \"\"\"Although Fortnite arguably dominates the battle royale genre at the moment, it would be a mistake to ignore the continued success of PUBG. Though not the first battle royale title to ever release, it effectively kick-started the genre, and continues to do quite well for itself.\n",
    "\n",
    "Indeed, the game's mobile port alone managed to pull in a whopping $438 million as of May 2019. However, though the game does run on a fairly wide range of smartphones, it is still a port of an extremely demanding game. As such, those with less beefy mobile hardware have effectively been locked out of playing it -- given that low-end smartphones are fairly common throughout the world, that probably leaves quite a bit of potential revenue on the table.\n",
    "\n",
    "Fortunately for low-end smartphone gamers, PUBG's creators have their needs in mind. Working together with Tencent, PUBG Corp. has developed \"PUBG Mobile Lite,\" a lightweight version of the game that requires a mere 490MB of space to download, and less than 2GB of RAM to run effectively.\n",
    "PUBG Mobile Lite can be downloaded now throughout Southeast Asia, South Asia, North Africa, and South America on the Google Play Store. The PUBG team has plans to bring the game to other areas in the future, including the likes of North America, Central America, and Europe.\n",
    "\n",
    "So, what are the key differences between PUBG Mobile Lite and PUBG Mobile proper? For starters, the Lite version includes enhanced aim assist, it removes bullet drop, and gun recoil has been significantly reduced. Further, the maximum match size is now 60 players versus the typical 100, and more loot will be found in each match.\n",
    "\n",
    "However, the game also seems to have a few technical issues. Browsing through the game's reviews on the Google Play Store, many players report issues such as broken voice chat, glitchy vehicles, and inconsistent weapon switches. However, these problems will likely be ironed out as the game continues to launch in additional countries.\"\"\""
   ]
  },
  {
   "cell_type": "code",
   "execution_count": 4,
   "metadata": {},
   "outputs": [
    {
     "name": "stdout",
     "output_type": "stream",
     "text": [
      "<FreqDist with 203 samples and 379 outcomes>\n"
     ]
    }
   ],
   "source": [
    "tokenized_words = word_tokenize(sample)\n",
    "fdist = FreqDist(tokenized_words)\n",
    "print(fdist)"
   ]
  },
  {
   "cell_type": "code",
   "execution_count": 7,
   "metadata": {},
   "outputs": [
    {
     "data": {
      "text/plain": [
       "[(',', 29),\n",
       " ('the', 22),\n",
       " ('.', 14),\n",
       " ('to', 10),\n",
       " ('of', 10),\n",
       " ('a', 8),\n",
       " ('PUBG', 8),\n",
       " ('and', 8),\n",
       " ('game', 8),\n",
       " ('it', 5),\n",
       " ('in', 5),\n",
       " ('be', 4),\n",
       " ('on', 4),\n",
       " ('Mobile', 4),\n",
       " ('Lite', 4),\n",
       " ('effectively', 3),\n",
       " (\"'s\", 3),\n",
       " ('as', 3),\n",
       " ('However', 3),\n",
       " ('have', 3)]"
      ]
     },
     "execution_count": 7,
     "metadata": {},
     "output_type": "execute_result"
    }
   ],
   "source": [
    "fdist.most_common(20) # most common words"
   ]
  },
  {
   "cell_type": "code",
   "execution_count": null,
   "metadata": {},
   "outputs": [],
   "source": [
    "import matplotlib.pyplot as plt\n"
   ]
  }
 ],
 "metadata": {
  "kernelspec": {
   "display_name": "Python 3",
   "language": "python",
   "name": "python3"
  },
  "language_info": {
   "codemirror_mode": {
    "name": "ipython",
    "version": 3
   },
   "file_extension": ".py",
   "mimetype": "text/x-python",
   "name": "python",
   "nbconvert_exporter": "python",
   "pygments_lexer": "ipython3",
   "version": "3.8.3"
  }
 },
 "nbformat": 4,
 "nbformat_minor": 4
}
