{
 "cells": [
  {
   "cell_type": "markdown",
   "metadata": {},
   "source": [
    "# spaCy"
   ]
  },
  {
   "cell_type": "code",
   "execution_count": 1,
   "metadata": {},
   "outputs": [
    {
     "name": "stderr",
     "output_type": "stream",
     "text": [
      "/opt/anaconda3/lib/python3.8/site-packages/spacy/util.py:275: UserWarning: [W031] Model 'en_core_web_sm' (2.2.0) requires spaCy v2.2 and is incompatible with the current spaCy version (2.3.2). This may lead to unexpected results or runtime errors. To resolve this, download a newer compatible model or retrain your custom model with the current spaCy version. For more details and available updates, run: python -m spacy validate\n",
      "  warnings.warn(warn_msg)\n"
     ]
    }
   ],
   "source": [
    "import spacy\n",
    "nlp  = spacy.load('en_core_web_sm')"
   ]
  },
  {
   "cell_type": "code",
   "execution_count": 2,
   "metadata": {},
   "outputs": [],
   "source": [
    "doc = nlp(\"\"\"Coronaviruses are a large family of viruses that are actually common throughout the world and can cause respiratory illness in people and animals. There are several known coronaviruses that infect people and usually only cause mild respiratory disease, such as the common cold. However, at least two previously identified coronaviruses have caused severe illness — Severe Acute Respiratory Syndrome (SARS) coronavirus and Middle East Respiratory Syndrome (MERS) coronavirus. \"\"\")"
   ]
  },
  {
   "cell_type": "code",
   "execution_count": 3,
   "metadata": {},
   "outputs": [
    {
     "data": {
      "text/plain": [
       "Coronaviruses are a large family of viruses that are actually common throughout the world and can cause respiratory illness in people and animals. There are several known coronaviruses that infect people and usually only cause mild respiratory disease, such as the common cold. However, at least two previously identified coronaviruses have caused severe illness — Severe Acute Respiratory Syndrome (SARS) coronavirus and Middle East Respiratory Syndrome (MERS) coronavirus. "
      ]
     },
     "execution_count": 3,
     "metadata": {},
     "output_type": "execute_result"
    }
   ],
   "source": [
    "doc"
   ]
  },
  {
   "cell_type": "code",
   "execution_count": 6,
   "metadata": {},
   "outputs": [
    {
     "name": "stdout",
     "output_type": "stream",
     "text": [
      "Coronaviruses\n",
      "are\n",
      "a\n",
      "large\n",
      "family\n",
      "of\n",
      "viruses\n",
      "that\n",
      "are\n",
      "actually\n",
      "common\n",
      "throughout\n",
      "the\n",
      "world\n",
      "and\n",
      "can\n",
      "cause\n",
      "respiratory\n",
      "illness\n",
      "in\n",
      "people\n",
      "and\n",
      "animals\n",
      ".\n",
      "There\n",
      "are\n",
      "several\n",
      "known\n",
      "coronaviruses\n",
      "that\n",
      "infect\n",
      "people\n",
      "and\n",
      "usually\n",
      "only\n",
      "cause\n",
      "mild\n",
      "respiratory\n",
      "disease\n",
      ",\n",
      "such\n",
      "as\n",
      "the\n",
      "common\n",
      "cold\n",
      ".\n",
      "However\n",
      ",\n",
      "at\n",
      "least\n",
      "two\n",
      "previously\n",
      "identified\n",
      "coronaviruses\n",
      "have\n",
      "caused\n",
      "severe\n",
      "illness\n",
      "—\n",
      "Severe\n",
      "Acute\n",
      "Respiratory\n",
      "Syndrome\n",
      "(\n",
      "SARS\n",
      ")\n",
      "coronavirus\n",
      "and\n",
      "Middle\n",
      "East\n",
      "Respiratory\n",
      "Syndrome\n",
      "(\n",
      "MERS\n",
      ")\n",
      "coronavirus\n",
      ".\n"
     ]
    }
   ],
   "source": [
    "# tokenization\n",
    "for token in doc:\n",
    "    print(token.text)"
   ]
  },
  {
   "cell_type": "code",
   "execution_count": 7,
   "metadata": {},
   "outputs": [
    {
     "name": "stdout",
     "output_type": "stream",
     "text": [
      "Coronaviruses coronaviruse\n",
      "are be\n",
      "a a\n",
      "large large\n",
      "family family\n",
      "of of\n",
      "viruses virus\n",
      "that that\n",
      "are be\n",
      "actually actually\n",
      "common common\n",
      "throughout throughout\n",
      "the the\n",
      "world world\n",
      "and and\n",
      "can can\n",
      "cause cause\n",
      "respiratory respiratory\n",
      "illness illness\n",
      "in in\n",
      "people people\n",
      "and and\n",
      "animals animal\n",
      ". .\n",
      "There there\n",
      "are be\n",
      "several several\n",
      "known know\n",
      "coronaviruses coronaviruse\n",
      "that that\n",
      "infect infect\n",
      "people people\n",
      "and and\n",
      "usually usually\n",
      "only only\n",
      "cause cause\n",
      "mild mild\n",
      "respiratory respiratory\n",
      "disease disease\n",
      ", ,\n",
      "such such\n",
      "as as\n",
      "the the\n",
      "common common\n",
      "cold cold\n",
      ". .\n",
      "However however\n",
      ", ,\n",
      "at at\n",
      "least least\n",
      "two two\n",
      "previously previously\n",
      "identified identify\n",
      "coronaviruses coronaviruse\n",
      "have have\n",
      "caused cause\n",
      "severe severe\n",
      "illness illness\n",
      "— —\n",
      "Severe Severe\n",
      "Acute Acute\n",
      "Respiratory Respiratory\n",
      "Syndrome Syndrome\n",
      "( (\n",
      "SARS SARS\n",
      ") )\n",
      "coronavirus coronavirus\n",
      "and and\n",
      "Middle Middle\n",
      "East East\n",
      "Respiratory Respiratory\n",
      "Syndrome Syndrome\n",
      "( (\n",
      "MERS MERS\n",
      ") )\n",
      "coronavirus coronavirus\n",
      ". .\n"
     ]
    }
   ],
   "source": [
    "# lemmatization\n",
    "for lemma in doc:\n",
    "    print(lemma.text, lemma.lemma_)\n",
    "    print"
   ]
  },
  {
   "cell_type": "code",
   "execution_count": null,
   "metadata": {},
   "outputs": [],
   "source": []
  }
 ],
 "metadata": {
  "kernelspec": {
   "display_name": "Python 3",
   "language": "python",
   "name": "python3"
  },
  "language_info": {
   "codemirror_mode": {
    "name": "ipython",
    "version": 3
   },
   "file_extension": ".py",
   "mimetype": "text/x-python",
   "name": "python",
   "nbconvert_exporter": "python",
   "pygments_lexer": "ipython3",
   "version": "3.8.3"
  }
 },
 "nbformat": 4,
 "nbformat_minor": 4
}
