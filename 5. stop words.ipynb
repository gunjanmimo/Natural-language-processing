{
 "cells": [
  {
   "cell_type": "markdown",
   "metadata": {},
   "source": [
    "# stop words"
   ]
  },
  {
   "cell_type": "code",
   "execution_count": 2,
   "metadata": {},
   "outputs": [
    {
     "name": "stdout",
     "output_type": "stream",
     "text": [
      "{'she', 'down', 'between', 'll', 'all', 'over', 'where', \"didn't\", 'they', 'under', 'mustn', 'until', 'both', 'them', 'the', \"she's\", 'having', 'yourselves', 'just', 'up', 'such', \"it's\", 'myself', \"needn't\", 'with', 'through', 'to', 'don', 'those', 'ours', \"won't\", \"hadn't\", 'should', 'wasn', 'but', 'he', 'again', 'yours', 'its', 'most', 'after', 'as', 'yourself', 'when', \"you'd\", 'isn', 'very', 'wouldn', 'once', 'what', 'mightn', 'below', 'so', 't', 'from', 'did', 'ma', 'why', 'not', \"aren't\", 'hers', 'in', 'further', 'been', 'same', 'than', 'now', 'then', 'didn', 'was', 'too', \"you're\", \"don't\", 'being', 'himself', 'off', 'few', 'had', 'hadn', \"shouldn't\", 'weren', 'how', 'own', 'does', 'for', 'shouldn', 'y', 'shan', 'above', 'am', 'me', 'out', 'which', \"mightn't\", 'at', 'doing', 'into', 'this', 'doesn', 'that', 'of', \"wasn't\", 'here', 's', 'hasn', 'each', 'won', 'd', 'do', 'couldn', 'any', 'm', 'ain', 'other', 'will', 'have', 'these', 'o', 'who', 'i', 'can', 'about', 'it', \"mustn't\", 're', 'and', 'whom', \"couldn't\", 'haven', \"hasn't\", 'is', \"you've\", 'more', 've', 'we', 'aren', 'be', 'him', 'against', 'some', \"doesn't\", 'while', 'during', 'ourselves', 'you', \"weren't\", 'if', 'needn', 'herself', 'there', 'our', 'were', 'an', 'or', 'your', \"shan't\", 'nor', 'by', 'their', 'on', 'a', \"isn't\", 'no', 'themselves', \"that'll\", 'because', 'her', 'before', 'only', \"you'll\", \"should've\", 'itself', 'are', \"wouldn't\", 'theirs', 'my', 'his', \"haven't\", 'has'}\n"
     ]
    }
   ],
   "source": [
    "from nltk.corpus import stopwords\n",
    "stop_words= set(stopwords.words('english'))\n",
    "print(stop_words)"
   ]
  },
  {
   "cell_type": "code",
   "execution_count": null,
   "metadata": {},
   "outputs": [],
   "source": []
  },
  {
   "cell_type": "code",
   "execution_count": 5,
   "metadata": {},
   "outputs": [],
   "source": [
    "from nltk.tokenize import sent_tokenize,word_tokenize\n",
    "from nltk.probability import FreqDist\n",
    "filtered_word = []\n",
    "\n",
    "sample=\"\"\"BLACK HOLES ARE points in space that are so dense they create deep gravity sinks. Beyond a certain region, not even light can escape the powerful tug of a black hole's gravity. And anything that ventures too close—be it star, planet, or spacecraft—will be stretched and compressed like putty in a theoretical process aptly known as spaghettification.\n",
    "\n",
    "There are four types of black holes: stellar, intermediate, supermassive, and miniature. The most commonly known way a black hole forms is by stellar death. As stars reach the ends of their lives, most will inflate, lose mass, and then cool to form white dwarfs. But the largest of these fiery bodies, those at least 10 to 20 times as massive as our own sun, are destined to become either super-dense neutron stars or so-called stellar-mass black holes.\n",
    "In their final stages, enormous stars go out with a bang in massive explosions known as supernovae. Such a burst flings star matter out into space but leaves behind the stellar core. While the star was alive, nuclear fusion created a constant outward push that balanced the inward pull of gravity from the star's own mass. In the stellar remnants of a supernova, however, there are no longer forces to oppose that gravity, so the star core begins to collapse in on itself.\n",
    "\n",
    "If its mass collapses into an infinitely small point, a black hole is born. Packing all of that bulk—many times the mass of our own sun—into such a tiny point gives black holes their powerful gravitational pull. Thousands of these stellar-mass black holes may lurk within our own Milky Way galaxy.\n",
    "\n",
    "One black hole is not like the others\n",
    "Supermassive black holes, predicted by Einstein's general theory of relativity, can have masses equal to billions of suns; these cosmic monsters likely hide at the centers of most galaxies. The Milky Way hosts its own supermassive black hole at its center known as Sagittarius A* (pronounced “ay star”) that is more than four million times as massive as our sun.\n",
    "\n",
    "The tiniest members of the black hole family are, so far, theoretical. These small vortices of darkness may have swirled to life soon after the universe formed with the big bang, some 13.7 billion years ago, and then quickly evaporated. Astronomers also suspect that a class of objects called intermediate-mass black holes exist in the universe, although evidence for them is so far debatable.\n",
    "\n",
    "No matter their starting size, black holes can grow throughout their lives, slurping gas and dust from any objects that creep too close. Anything that passes the event horizon, the point at which escape becomes impossible, is in theory destined for spaghettification thanks to a sharp increase in the strength of gravity as you fall into the black hole.\n",
    "\n",
    "As astrophysicist Neil Degrasse Tyson once described the process: “While you're getting stretched, you're getting squeezed—extruded through the fabric of space like toothpaste through a tube.”\n",
    "\n",
    "But black holes aren't exactly “cosmic vacuum cleaners,” as often depicted in popular media. Objects must creep fairly close to one to lose this gravitational tug-of-war. For example, if our sun was suddenly replaced by a black hole of similar mass, our planetary family would continue to orbit unperturbed, if much less warm and illuminated.\n",
    "Because black holes swallow all light, astronomers can't spot them directly like they do the many glittery cosmic objects in the sky. But there are a few keys that reveal a black hole's presence.\n",
    "\n",
    "For one, a black hole's intense gravity tugs on any surrounding objects. Astronomers use these erratic movements to infer the presence of the invisible monster that lurks nearby. Or objects can orbit a black hole, and astronomers can look for stars that seem to orbit nothing to detect a likely candidate. That's how astronomers eventually identified Sagittarius A* as a black hole in the early 2000s.\n",
    "\n",
    "Black holes are also messy eaters, which often betrays their locations. As they sip on surrounding stars, their massive gravitational and magnetic forces superheat the infalling gas and dust, causing it to emit radiation. Some of this glowing matter envelops the black hole in a whirling region called an accretion disk. Even the matter that starts falling into a black hole isn't necessarily there to stay. Black holes can sometimes eject infalling stardust in mighty radiation-laden burps.\"\"\""
   ]
  },
  {
   "cell_type": "code",
   "execution_count": 4,
   "metadata": {},
   "outputs": [],
   "source": [
    "token_words = word_tokenize(sample)"
   ]
  },
  {
   "cell_type": "code",
   "execution_count": 6,
   "metadata": {},
   "outputs": [
    {
     "name": "stdout",
     "output_type": "stream",
     "text": [
      "<FreqDist with 276 samples and 410 outcomes>\n"
     ]
    }
   ],
   "source": [
    "for w in token_words:\n",
    "    if w not in stop_words:\n",
    "        if len(w)>3:\n",
    "            filtered_word.append(w)\n",
    "\n",
    "fdist = FreqDist(filtered_word)\n",
    "print(fdist)"
   ]
  },
  {
   "cell_type": "code",
   "execution_count": 8,
   "metadata": {},
   "outputs": [
    {
     "data": {
      "text/plain": [
       "[('black', 23),\n",
       " ('hole', 14),\n",
       " ('holes', 11),\n",
       " ('gravity', 6),\n",
       " ('star', 6),\n",
       " ('stars', 5),\n",
       " ('mass', 5),\n",
       " ('objects', 5),\n",
       " ('like', 4),\n",
       " ('known', 4),\n",
       " ('stellar', 4),\n",
       " ('massive', 4),\n",
       " ('matter', 4),\n",
       " ('space', 3),\n",
       " ('times', 3),\n",
       " ('point', 3),\n",
       " ('gravitational', 3),\n",
       " ('cosmic', 3),\n",
       " ('orbit', 3),\n",
       " ('astronomers', 3)]"
      ]
     },
     "execution_count": 8,
     "metadata": {},
     "output_type": "execute_result"
    }
   ],
   "source": [
    "fdist.most_common(20)"
   ]
  },
  {
   "cell_type": "code",
   "execution_count": 9,
   "metadata": {},
   "outputs": [
    {
     "data": {
      "image/png": "[encoded data removed]",
      "text/plain": [
       "<Figure size 720x576 with 1 Axes>"
      ]
     },
     "metadata": {
      "needs_background": "light"
     },
     "output_type": "display_data"
    },
    {
     "data": {
      "text/plain": [
       "<matplotlib.axes._subplots.AxesSubplot at 0x7ff751ede9d0>"
      ]
     },
     "execution_count": 9,
     "metadata": {},
     "output_type": "execute_result"
    }
   ],
   "source": [
    "import matplotlib.pyplot as plt\n",
    "plt.figure(figsize=(10,8))\n",
    "fdist.plot(20)"
   ]
  },
  {
   "cell_type": "code",
   "execution_count": null,
   "metadata": {},
   "outputs": [],
   "source": []
  },
  {
   "cell_type": "code",
   "execution_count": null,
   "metadata": {},
   "outputs": [],
   "source": []
  }
 ],
 "metadata": {
  "kernelspec": {
   "display_name": "Python 3",
   "language": "python",
   "name": "python3"
  },
  "language_info": {
   "codemirror_mode": {
    "name": "ipython",
    "version": 3
   },
   "file_extension": ".py",
   "mimetype": "text/x-python",
   "name": "python",
   "nbconvert_exporter": "python",
   "pygments_lexer": "ipython3",
   "version": "3.8.3"
  }
 },
 "nbformat": 4,
 "nbformat_minor": 4
}
